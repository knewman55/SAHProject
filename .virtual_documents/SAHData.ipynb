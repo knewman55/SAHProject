import somadata
from collections import Counter
import matplotlib.pyplot as plt
import seaborn as sns
import pandas as pd
import csv
import numpy as np
import scipy.stats
import os
from io import StringIO
print("Done")





from scipy.stats import ttest_ind
from collections import Counter
import matplotlib.pyplot as plt
import seaborn as sns
import pandas as pd
import numpy as np
import os
from io import StringIO
print('done')


#Path to this directory
dirpath = os.path.abspath(os.path.dirname('SAHData.ipynb'))


#adat file that has been plate scaled and hybrid normalized (not median normalized)
adat_path = dirpath + '/Data/UFL-17-005DataFromSoma-Jenna-SerumConbine/UFL-17-005.hybNorm.plateScale.20180411.adat'
adat_med_norm = dirpath + '/Data/UFL-17-005DataFromSoma-Jenna-SerumConbine/UFL-17-005.hybNorm.plateScale.medNorm.20180411.adat'
adat = somadata.read_adat(adat_path)
type(adat)


#dictionary to be able to retrieve the location of any of these samples in the adat

sample_dict = {}
for i in range(len(adat.index)):
    sample_dict[ adat.index[i][5] ] = i


#Loading in the a CSV. Will need to change path on personal computer
csv_path = dirpath + '/Data/NumbersOnly_vasospasm_identifiers_072224.csv'
df = pd.read_csv(csv_path)
vaso_list = df.iloc[:, 0].tolist()
print(vaso_list)


#Merging vasospasm data with SAH adat file. Source code derived from Soma Logic Canopy GitHub

vaso_adat = adat.insert_meta(0,'Vasospasm (0=n, 1=y)', vaso_list)
# this will produce a new Adat file with group data in the right most column of the index

vaso_adat.index.to_frame(index=False).loc[0:1]


#Displaying adat file. Source code derived from Soma Logic Canopy GitHub

from IPython.display import HTML
#Display the first five rows and columns of the adat
HTML(vaso_adat.iloc[:160, :10].to_html())



#Check to see number of patients vs controls/calibrators
Counter(vaso_adat.index.get_level_values('SampleType'))





RedudantQC_filtered_transformed_data = (
    vaso_adat
        .exclude_on_meta(axis=0, name='SampleMatrix', values=['Calibrator', 'QC'])                     
        .pick_on_meta(axis=0, name='SampleId', values=['S-01-120710', '184277'])  # rm control samples
        #.apply(np.log10)                                             # log10-transform
)
RedudantQC_filtered_transformed_data
##The two patients have different protein levels





control_check = (
    vaso_adat
        .exclude_on_meta(axis=0, name='SampleMatrix', values=['Calibrator', 'QC'])                     
        .pick_on_meta(axis=0, name='Vasospasm (0=n, 1=y)', values=['Pilot Control', 'BB Control'])  # rm control samples
        .apply(np.log10)                                             # log10-transform
)


clean_control_check = (
    control_check
        .insert_keyed_meta(                                          
            axis=0,
            key_meta_name='Vasospasm (0=n, 1=y)',
            inserted_meta_name='Control',
            values_dict={'Pilot Control': 1, 'BB Control': 0}
        )
        .apply(lambda x: x - x.mean(), axis=0)                       # center features
        .apply(lambda x: x / x.std(), axis=0)                        # scale features
)


tt_BB = clean_control_check.pick_on_meta(axis=0, name='Control', values=[0])
tt_Pilot = clean_control_check.pick_on_meta(axis=0, name='Control', values=[1])

tt_res_control = ttest_ind(tt_BB, tt_Pilot)
t_tests_control = list(zip(clean_control_check.columns.get_level_values('TargetFullName'), tt_res_control.pvalue))
len(t_tests_control) #1317

significant_tests_control = [item for item in t_tests_control if item[1] < 0.05]
len(significant_tests_control) #162
#Only 162/1317 analytes were statistically different between the control groups


t_tests_control_sorted = sorted(significant_tests_control, key=lambda x: x[1])
tt_top_12_analytes = [name for name, p_value in t_tests_control_sorted[:12]]
tt_top_12_analytes
print("p values of top 12: ", t_tests_control_sorted[:12])





redCell_dict = {'S-1-020507': 1, 'S-1-111708': 1, 'S-1-041405': 1, 'S-1-070607': 1}

redCell_list = ['0'] * 96
redCell_list[sample_dict['135203']] = '1'
redCell_list[sample_dict['158020']] = '1'
redCell_list[sample_dict['116636']] = '1'
redCell_list[sample_dict['141852']] = '1'


#Merging vasospasm data with SAH adat file. Source code derived from Soma Logic Canopy GitHub

redCell_adat = vaso_adat.insert_meta(0,'redCell', redCell_list)
# this will produce a new Adat file with group data in the right most column of the index

#HTML(redCell_adat.iloc[:160, :10].to_html())


redCell_check = (
    redCell_adat
        .exclude_on_meta(axis=0, name='SampleMatrix', values=['Calibrator', 'QC'])                     
        .pick_on_meta(axis=0, name='redCell', values=['0','1'])  # rm control samples
        .apply(np.log10)                                             # log10-transform
)

#proteins without log10 transformation
adat_10336_3 = (
    vaso_adat.pick_on_meta(axis=1, name='SeqId', values=['10336-3'])                     
)
adat_10337_83 = (
    vaso_adat.pick_on_meta(axis=1, name='SeqId', values=['10337-83'])                     
)
adat_10339_48 = (
    vaso_adat.pick_on_meta(axis=1, name='SeqId', values=['10339-48'])                     
)

#proteins with log10 transformation
adat_10336_3_10 = (
    vaso_adat.pick_on_meta(axis=1, name='SeqId', values=['10336-3'])
    .apply(np.log10)
)
adat_10337_83_10 = (
    vaso_adat.pick_on_meta(axis=1, name='SeqId', values=['10337-83'])
    .apply(np.log10)
)
adat_10339_48_10 = (
    vaso_adat.pick_on_meta(axis=1, name='SeqId', values=['10339-48'])
    .apply(np.log10)
)


#E3 ubiquitin-protein ligase CHIP
data = scipy.stats.norm.rvs(size=100000, loc=0, scale=1.5,random_state=123)
hist = np.histogram(adat_10336_3, bins=[1,100,200,300,400,500,600,700,800])
hist


#E3 ubiquitin-protein ligase CHIP WITH log(10)
data = scipy.stats.norm.rvs(size=100000, loc=0, scale=1.5,random_state=123)
hist = np.histogram(adat_10336_3_10, bins=8)
hist


#CCAAT/enhancer-binding protein beta
data2 = scipy.stats.norm.rvs(size=100000, loc=0, scale=1.5,random_state=123)
hist2 = np.histogram(adat_10337_83, bins=[1,100,200,300,400,500,600,700,800])
hist2


#CCAAT/enhancer-binding protein beta WITH log(10)
data2 = scipy.stats.norm.rvs(size=100000, loc=0, scale=1.5,random_state=123)
hist2 = np.histogram(adat_10337_83_10, bins=8)
hist2


#Gamma-enolase
data3 = scipy.stats.norm.rvs(size=100000, loc=0, scale=1.5,random_state=123)
hist3 = np.histogram(adat_10339_48, bins=[1,100,200,300,400,500,600,700,800])
hist3


#Gamma-enolase
data3 = scipy.stats.norm.rvs(size=100000, loc=0, scale=1.5,random_state=123)
hist3 = np.histogram(adat_10339_48_10, bins=8)
hist3


import matplotlib.pyplot as plt
X = np.linspace(-5.0, 5.0, 100)
fig, ax = plt.subplots()
ax.set_title("E3 ubiquitin-protein ligase CHIP")
ax.hist(adat_10336_3, density=True, bins=[1,100,200,300,400,500,600,700,800])

fig2, ax2 = plt.subplots()
ax2.set_title("CCAAT/enhancer-binding protein beta")
ax2.hist(adat_10337_83, density=True, bins=[1,100,200,300,400,500,600,700,800])

fig3, ax3 = plt.subplots()
ax3.set_title("Gamma-enolase")
ax3.hist(adat_10339_48, density=True, bins=[1,100,200,300,400,500,600,700,800])

fig.show()
fig2.show()
fig3.show()


import matplotlib.pyplot as plt
X = np.linspace(-5.0, 5.0, 100)
fig, ax = plt.subplots()
ax.set_title("E3 ubiquitin-protein ligase CHIP")
ax.hist(adat_10336_3_10, density=True, bins=8)

fig2, ax2 = plt.subplots()
ax2.set_title("CCAAT/enhancer-binding protein beta")
ax2.hist(adat_10337_83_10, density=True, bins=8)

fig3, ax3 = plt.subplots()
ax3.set_title("Gamma-enolase")
ax3.hist(adat_10339_48_10, density=True, bins=8)

fig.show()
fig2.show()
fig3.show()


clean_redCell_check = (
    redCell_check
        .insert_keyed_meta(                                          
            axis=0,
            key_meta_name='redCell',
            inserted_meta_name='red',
            values_dict={'1': 1, '0': 0}
        )
        .apply(lambda x: x - x.mean(), axis=0)                       # center features
        .apply(lambda x: x / x.std(), axis=0)                        # scale features
)


tt_sample = clean_redCell_check.pick_on_meta(axis=0, name='red', values=[0])
tt_red_cell = clean_redCell_check.pick_on_meta(axis=0, name='red', values=[1])

tt_res_redCell = ttest_ind(tt_sample, tt_red_cell)
t_tests_redCell = list(zip(clean_redCell_check.columns.get_level_values('TargetFullName'), tt_res_redCell.pvalue))

len(t_tests_redCell) #1317

significant_tests_control = [item for item in t_tests_redCell if item[1] < 0.05]
len(significant_tests_control) #162
#Only 162/1317 analytes were statistically different between the control groups





filtered_transformed_data = (
    redCell_adat
        .exclude_on_meta(axis=0, name='SampleMatrix', values=['Calibrator', 'QC'])                     
          # rm control samples
                                                     # log10-transform
)

filtered_transformed_data = (
    redCell_adat
        .exclude_on_meta(axis=0, name='redCell', values=['1'])                                         # log10-transform
        .pick_on_meta(axis=0, name='Vasospasm (0=n, 1=y)', values=['0', '1'])
        #.apply(np.log10)
)
#HTML(filtered_transformed_data.iloc[:160, :1500].to_html())


clean_data = (
    filtered_transformed_data
        .insert_keyed_meta(                                          
            axis=0,
            key_meta_name='Vasospasm (0=n, 1=y)',
            inserted_meta_name='Vaso',
            values_dict={'1': 1, '0': 0}
        )
        #.apply(lambda x: x - x.mean(), axis=0)                       # center features
        #.apply(lambda x: x / x.std(), axis=0)                        # scale features
)



print(clean_data.index.to_frame()['Vaso'].value_counts())




tt_g0 = clean_data.pick_on_meta(axis=0, name='Vaso', values=[0])
tt_g1 = clean_data.pick_on_meta(axis=0, name='Vaso', values=[1])
print(type(tt_g0))

change = tt_g0.sub(tt_g1).div(tt_g1)
tt_res = ttest_ind(tt_g0, tt_g1)
t_tests = list(zip(clean_data.columns.get_level_values('TargetFullName'), tt_res.pvalue))
change_list = list(zip(clean_data.columns.get_level_values('TargetFullName'), change))
change_sorted = sorted(change_list, key=lambda x: x[1])
print(change_sorted)


#Distribution
vaso0_mean_hist = np.histogram(tt_g0, bins=8)
vaso0_mean_hist


g0_mean = np.mean(tt_g0)
g1_mean = np.mean(tt_g1)
fold_change = np.log2(g1_mean / g0_mean)

data5 = scipy.stats.norm.rvs(size=100000, loc=0, scale=1.5,random_state=123)
hist5 = np.histogram(fold_change, bins=8)
hist5

#change = tt_g0.sub(tt_g1).div(tt_g1)

#change_list = list(zip(clean_data.columns.get_level_values('TargetFullName'), change))
#change_sorted = sorted(change_list, key=lambda x: x[1])


plt.figure(figsize=(10, 6))
plt.scatter(fold_change, np.negative(np.log10(tt_res.pvalue)), color='blue')

# Add horizontal line for p-value significance threshold (e.g., 0.05)
significance_threshold = 0.05
plt.axhline(-np.log10(significance_threshold), color='red', linestyle='--')

# Add vertical lines for fold change cutoffs (e.g., log2(1.5) ~ 0.585)
fold_change_threshold = 1.5
plt.axvline(np.log2(fold_change_threshold), color='green', linestyle='--')
plt.axvline(-np.log2(fold_change_threshold), color='green', linestyle='--')

# Labels and title
plt.xlabel('Log2 Fold Change')
plt.ylabel('-Log10 P-Value')
plt.title('Volcano Plot')

plt.show()
#plt.scatter(fold_change, tt_res.pvalue, color='blue')


fold_list = list(zip(clean_data.columns.get_level_values('TargetFullName'), fold_change))
fold_change_sorted = sorted(fold_list, key=lambda x: x[1])

downReg_20 = [name for name, down_change in fold_change_sorted[:20]]
upReg_20 = [name for name, up_change in fold_change_sorted[1297:1317]]
upReg_20


upReg_df = (
    filtered_transformed_data
        .pick_meta(axis=1, names=['TargetFullName'])
        .pick_on_meta(axis=1, name='TargetFullName', values=upReg_20)[upReg_20]
        .reset_index()
)


melted_upReg_df = pd.melt(upReg_df, value_vars=upReg_20, id_vars='Vasospasm (0=n, 1=y)', value_name='RFU')

upReg_p = sns.catplot(
    x='Vasospasm (0=n, 1=y)',
    y='RFU',
    col='TargetFullName',
    data=melted_upReg_df,
    kind='box',
    col_wrap=3,
    sharey=False
)
upReg_p.set_titles(row_template='{row_name}', col_template='{col_name}')
plt.show()


t_tests_sorted = sorted(t_tests, key=lambda x: x[1])
tt_top_20_analytes = [name for name, p_value in t_tests_sorted[:20]]
tt_top_20_analytes
#print("p values of top 20: ", t_tests_sorted[:20])


tt_df= (
    filtered_transformed_data
        .pick_meta(axis=1, names=['TargetFullName'])
        .pick_on_meta(axis=1, name='TargetFullName', values=tt_top_20_analytes)[tt_top_20_analytes]
        .reset_index()
)

tt_melted_df = pd.melt(tt_df, value_vars=tt_top_20_analytes, id_vars='Vasospasm (0=n, 1=y)', value_name='log10(RFU)')

tt_p = sns.catplot(
    x='Vasospasm (0=n, 1=y)',
    y='log10(RFU)',
    col='TargetFullName',
    data=tt_melted_df,
    kind='box',
    col_wrap=3,
    sharey=False
)
tt_p.set_titles(row_template='{row_name}', col_template='{col_name}')
plt.show()


import pandas as pd

# Specify the path to your ADAT file
adat_file_path = "path/to/your/file.adat"

# Read the ADAT file into a DataFrame
df = pd.read_csv(adat_path, delimiter='\t')[1]

# Display the first few rows of the DataFrame
print(df.head())



