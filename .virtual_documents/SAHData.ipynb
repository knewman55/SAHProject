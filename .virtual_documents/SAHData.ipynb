import somadata
from collections import Counter
import matplotlib.pyplot as plt
import seaborn as sns
import pandas as pd
import csv
import numpy as np
import os
from io import StringIO
print("Done")





from scipy.stats import ttest_ind
from collections import Counter
import matplotlib.pyplot as plt
import seaborn as sns
import pandas as pd
import numpy as np
import os
from io import StringIO
print('done')


#Path to this directory
dirpath = os.path.abspath(os.path.dirname('SAHData.ipynb'))


#adat file that has been plate scaled and hybrid normalized (not median normalized)
adat_path = dirpath + '/Data/UFL-17-005DataFromSoma-Jenna-SerumConbine/UFL-17-005.hybNorm.plateScale.20180411.adat'
adat = somadata.read_adat(adat_path)
type(adat)


#dictionary to be able to retrieve the location of any of these samples in the adat

sample_dict = {}
for i in range(len(adat.index)):
    sample_dict[ adat.index[i][5] ] = i


#Loading in the a CSV. Will need to change path on personal computer
csv_path = dirpath + '/Data/NumbersOnly_vasospasm_identifiers_072224.csv'
df = pd.read_csv(csv_path)
vaso_list = df.iloc[:, 0].tolist()
print(vaso_list)


#Merging vasospasm data with SAH adat file. Source code derived from Soma Logic Canopy GitHub

vaso_adat = adat.insert_meta(0,'Vasospasm (0=n, 1=y)', vaso_list)
# this will produce a new Adat file with group data in the right most column of the index

vaso_adat.index.to_frame(index=False).loc[0:1]


#Displaying adat file. Source code derived from Soma Logic Canopy GitHub

from IPython.display import HTML
#Display the first five rows and columns of the adat
HTML(vaso_adat.iloc[:160, :10].to_html())


#Check to see number of patients vs controls/calibrators
Counter(vaso_adat.index.get_level_values('SampleType'))





RedudantQC_filtered_transformed_data = (
    vaso_adat
        .exclude_on_meta(axis=0, name='SampleMatrix', values=['Calibrator', 'QC'])                     
        .pick_on_meta(axis=0, name='SampleId', values=['S-01-120710', '184277'])  # rm control samples
        #.apply(np.log10)                                             # log10-transform
)
RedudantQC_filtered_transformed_data
##The two patients have different protein levels





control_check = (
    vaso_adat
        .exclude_on_meta(axis=0, name='SampleMatrix', values=['Calibrator', 'QC'])                     
        .pick_on_meta(axis=0, name='Vasospasm (0=n, 1=y)', values=['Pilot Control', 'BB Control'])  # rm control samples
        .apply(np.log10)                                             # log10-transform
)


clean_control_check = (
    control_check
        .insert_keyed_meta(                                          
            axis=0,
            key_meta_name='Vasospasm (0=n, 1=y)',
            inserted_meta_name='Control',
            values_dict={'Pilot Control': 1, 'BB Control': 0}
        )
        .apply(lambda x: x - x.mean(), axis=0)                       # center features
        .apply(lambda x: x / x.std(), axis=0)                        # scale features
)


tt_BB = clean_control_check.pick_on_meta(axis=0, name='Control', values=[0])
tt_Pilot = clean_control_check.pick_on_meta(axis=0, name='Control', values=[1])

tt_res_control = ttest_ind(tt_BB, tt_Pilot)
t_tests_control = list(zip(clean_control_check.columns.get_level_values('TargetFullName'), tt_res_control.pvalue))
len(t_tests_control) #1317

significant_tests_control = [item for item in t_tests_control if item[1] < 0.05]
len(significant_tests_control) #162
#Only 162/1317 analytes were statistically different between the control groups


t_tests_control_sorted = sorted(significant_tests_control, key=lambda x: x[1])
tt_top_12_analytes = [name for name, p_value in t_tests_control_sorted[:12]]
tt_top_12_analytes
print("p values of top 12: ", t_tests_sorted[:12])





redCell_dict = {'S-1-020507': 1, 'S-1-111708': 1, 'S-1-041405': 1, 'S-1-070607': 1}

redCell_list = ['0'] * 96
redCell_list[sample_dict['135203']] = '1'
redCell_list[sample_dict['158020']] = '1'
redCell_list[sample_dict['116636']] = '1'
redCell_list[sample_dict['141852']] = '1'


#Merging vasospasm data with SAH adat file. Source code derived from Soma Logic Canopy GitHub

redCell_adat = adat.insert_meta(0,'redCell', redCell_list)
# this will produce a new Adat file with group data in the right most column of the index

HTML(redCell_adat.iloc[:160, :10].to_html())


redCell_check = (
    redCell_adat
        .exclude_on_meta(axis=0, name='SampleMatrix', values=['Calibrator', 'QC'])                     
        .pick_on_meta(axis=0, name='redCell', values=['0','1'])  # rm control samples
        .apply(np.log10)                                             # log10-transform
)
redCell_check


clean_redCell_check = (
    redCell_check
        .insert_keyed_meta(                                          
            axis=0,
            key_meta_name='redCell',
            inserted_meta_name='red',
            values_dict={'1': 1, '0': 0}
        )
        .apply(lambda x: x - x.mean(), axis=0)                       # center features
        .apply(lambda x: x / x.std(), axis=0)                        # scale features
)
clean_redCell_check


tt_sample = clean_redCell_check.pick_on_meta(axis=0, name='red', values=[0])
tt_red_cell = clean_redCell_check.pick_on_meta(axis=0, name='red', values=[1])

tt_res_redCell = ttest_ind(tt_sample, tt_red_cell)
t_tests_redCell = list(zip(clean_redCell_check.columns.get_level_values('TargetFullName'), tt_res_control.pvalue))
len(t_tests_redCell) #1317

significant_tests_control = [item for item in t_tests_redCell if item[1] < 0.05]
len(significant_tests_control) #162
#Only 162/1317 analytes were statistically different between the control groups





filtered_transformed_data = (
    vaso_adat
        .exclude_on_meta(axis=0, name='SampleMatrix', values=['Calibrator', 'QC'])                     
        .pick_on_meta(axis=0, name='Vasospasm (0=n, 1=y)', values=['0', '1'])  # rm control samples
        .apply(np.log10)                                             # log10-transform
)


clean_data = (
    filtered_transformed_data
        .insert_keyed_meta(                                          
            axis=0,
            key_meta_name='Vasospasm (0=n, 1=y)',
            inserted_meta_name='Vaso',
            values_dict={'1': 1, '0': 0}
        )
        .apply(lambda x: x - x.mean(), axis=0)                       # center features
        .apply(lambda x: x / x.std(), axis=0)                        # scale features
)



object_methods = [method_name for method_name in dir(vaso_adat)
                  if callable(getattr(vaso_adat, method_name))]
print(object_methods)


print(clean_data.index.to_frame()['Vaso'].value_counts())


tt_g0 = clean_data.pick_on_meta(axis=0, name='Vaso', values=[0])
tt_g1 = clean_data.pick_on_meta(axis=0, name='Vaso', values=[1])

tt_res = ttest_ind(tt_g0, tt_g1)
t_tests = list(zip(clean_data.columns.get_level_values('TargetFullName'), tt_res.pvalue))


t_tests_sorted = sorted(t_tests, key=lambda x: x[1])
tt_top_12_analytes = [name for name, p_value in t_tests_sorted[:12]]
tt_top_12_analytes
print("p values of top 12: ", t_tests_sorted[:12])


tt_df= (
    filtered_transformed_data
        .pick_meta(axis=1, names=['TargetFullName'])
        .pick_on_meta(axis=1, name='TargetFullName', values=tt_top_12_analytes)[tt_top_12_analytes]
        .reset_index()
)

tt_melted_df = pd.melt(tt_df, value_vars=tt_top_12_analytes, id_vars='Vasospasm (0=n, 1=y)', value_name='log10(RFU)')

tt_p = sns.catplot(
    x='Vasospasm (0=n, 1=y)',
    y='log10(RFU)',
    col='TargetFullName',
    data=tt_melted_df,
    kind='box',
    col_wrap=3,
    sharey=False
)
tt_p.set_titles(row_template='{row_name}', col_template='{col_name}')
plt.show()


print(tt_df.columns)


# One-sample t-tests
p_values = []
for protein in patient_data.columns:
    stat, p_value = ttest_1samp(patient_data[protein], reference_medians[protein])
    p_values.append(p_value)


#Plate scale that has been plate scaled, hybrid normalized, and median normalized (used for QC)
adat2 = somadata.read_adat('/Users/kenny/Documents/Medical School/Research/MSSRP/Data/UFL-17-005DataFromSoma-Jenna-SerumConbine/UFL-17-005.hybNorm.plateScale.medNorm.20180411.adat')

#Display the first ten rows and columns of the adat
HTML(adat2.iloc[:10, :10].to_html())
